{
 "cells": [
  {
   "cell_type": "markdown",
   "metadata": {},
   "source": [
    "# Analyzing Presidential Election With Twitter"
   ]
  },
  {
   "cell_type": "markdown",
   "metadata": {},
   "source": [
    "Would it have been possible to predict winner of presidential election earlier with Twitter? \n"
   ]
  },
  {
   "cell_type": "markdown",
   "metadata": {},
   "source": [
    "# Setting Up Twitter Developer Account Linked To Profile"
   ]
  },
  {
   "cell_type": "markdown",
   "metadata": {},
   "source": [
    "## Initialize Connection"
   ]
  },
  {
   "cell_type": "code",
   "execution_count": 3,
   "metadata": {
    "collapsed": false
   },
   "outputs": [],
   "source": [
    "import tweepy #Connection to Twitter\n",
    "import json #Output from Twitter\n",
    "import time #How the computer is going to see the time"
   ]
  },
  {
   "cell_type": "code",
   "execution_count": 4,
   "metadata": {
    "collapsed": true
   },
   "outputs": [],
   "source": [
    "#ConsumerKey, consumer secret, access token, access secret \n",
    "ckey = 'MEynE0kRbK0Zxl0JZxbbH2dLb'\n",
    "csecret = 'viYv8XalQzp643oTMbVmXzF4QLekgDjXm5nCmWmUMEBmn91JR1'\n",
    "atoken= '862164338936860675-tyzXrNk5yQZRHFacACx8jSNwTKE9uj7'\n",
    "asecret = 'BAI4pZnsFMKjGyXZfRp4cLxS5PoyADqpNGScnmry932gt'"
   ]
  },
  {
   "cell_type": "code",
   "execution_count": 5,
   "metadata": {
    "collapsed": true
   },
   "outputs": [],
   "source": [
    "#Instantiating Objects of Authentication\n",
    "auth = tweepy.OAuthHandler(ckey, csecret)\n",
    "auth.set_access_token(atoken, asecret)"
   ]
  },
  {
   "cell_type": "markdown",
   "metadata": {},
   "source": [
    "## Testing the Connection"
   ]
  },
  {
   "cell_type": "code",
   "execution_count": 9,
   "metadata": {
    "collapsed": false
   },
   "outputs": [],
   "source": [
    "#Create The Actual Interface\n",
    "api = tweepy.API(auth)\n",
    "\n",
    "#api.update_status(\"Hello Updating From iPython\")\n",
    "user = api.me()"
   ]
  },
  {
   "cell_type": "code",
   "execution_count": 13,
   "metadata": {
    "collapsed": false
   },
   "outputs": [
    {
     "name": "stdout",
     "output_type": "stream",
     "text": [
      "Tomoki Lam\n",
      "\n",
      "0\n"
     ]
    }
   ],
   "source": [
    "print(user.name)\n",
    "print(user.location)\n",
    "print(user.friends_count)"
   ]
  },
  {
   "cell_type": "markdown",
   "metadata": {},
   "source": [
    "# Streaming Presidential Election Tweets"
   ]
  },
  {
   "cell_type": "code",
   "execution_count": 17,
   "metadata": {
    "collapsed": false
   },
   "outputs": [
    {
     "name": "stdout",
     "output_type": "stream",
     "text": [
      "Twitter Download is interrupted\n"
     ]
    }
   ],
   "source": [
    "# Initializing a listener class that streams Twitter status\n",
    "class StdOutListener(tweepy.StreamListener):\n",
    "    def on_data(self,data):\n",
    "        try:\n",
    "            with open ('tweets', 'a') as file:\n",
    "                file.write(data)\n",
    "                return True\n",
    "        except BaseException as e:\n",
    "            print(str(e))\n",
    "    def on_error(self,status):\n",
    "        print(status)\n",
    "        \n",
    "        \n",
    "#This handles Twitter authentiication and the connection to Twitter Streaming API\n",
    "listener = StdOutListener()\n",
    "stream = tweepy.Stream(auth, listener)\n",
    "\n",
    "#This line filter Twitter Streams to capture data by the keywords: 'trump', 'hillary'\n",
    "try:    \n",
    "    stream.filter(track=['trump','hillary'])\n",
    "except KeyboardInterrupt:\n",
    "        print(\"Twitter Download is interrupted\")      "
   ]
  },
  {
   "cell_type": "code",
   "execution_count": null,
   "metadata": {
    "collapsed": true
   },
   "outputs": [],
   "source": []
  },
  {
   "cell_type": "markdown",
   "metadata": {},
   "source": [
    "# Exploring Data "
   ]
  },
  {
   "cell_type": "code",
   "execution_count": 18,
   "metadata": {
    "collapsed": true
   },
   "outputs": [],
   "source": [
    "import pandas as pd\n",
    "%matplotlib inline\n",
    "import matplotlib.pyplot as plt\n",
    "from matplotlib import style\n",
    "\n",
    "# Adjusting the size of matplotlib\n",
    "import matplotlib as mpl\n",
    "mpl.rc('figure', figsize=(8, 7))\n",
    "mpl.__version__\n",
    "\n",
    "# Adjusting the style of matplotlib\n",
    "style.use('ggplot')"
   ]
  },
  {
   "cell_type": "code",
   "execution_count": 23,
   "metadata": {
    "collapsed": false
   },
   "outputs": [
    {
     "data": {
      "text/plain": [
       "5444"
      ]
     },
     "execution_count": 23,
     "metadata": {},
     "output_type": "execute_result"
    }
   ],
   "source": [
    "#Get data of Twitter Stream\n",
    "tweets_data_path = 'tweets'\n",
    "\n",
    "tweets_data =[]\n",
    "tweets_file = open(tweets_data_path, \"r\")\n",
    "\n",
    "for line in tweets_file:\n",
    "    try:\n",
    "        tweet = json.loads(line)\n",
    "        tweets_data.append(tweet)\n",
    "    except:\n",
    "        continue\n",
    "        \n",
    "len(tweets_data)"
   ]
  },
  {
   "cell_type": "code",
   "execution_count": 24,
   "metadata": {
    "collapsed": false
   },
   "outputs": [
    {
     "data": {
      "text/plain": [
       "{'contributors': None,\n",
       " 'coordinates': None,\n",
       " 'created_at': 'Wed May 10 05:28:05 +0000 2017',\n",
       " 'display_text_range': [28, 140],\n",
       " 'entities': {'hashtags': [],\n",
       "  'symbols': [],\n",
       "  'urls': [{'display_url': 'twitter.com/i/web/status/8…',\n",
       "    'expanded_url': 'https://twitter.com/i/web/status/862177401559801856',\n",
       "    'indices': [117, 140],\n",
       "    'url': 'https://t.co/lRWSYNQUUm'}],\n",
       "  'user_mentions': [{'id': 329276155,\n",
       "    'id_str': '329276155',\n",
       "    'indices': [0, 9],\n",
       "    'name': 'D Young',\n",
       "    'screen_name': 'statto99'},\n",
       "   {'id': 14157134,\n",
       "    'id_str': '14157134',\n",
       "    'indices': [10, 17],\n",
       "    'name': 'Robert Peston',\n",
       "    'screen_name': 'Peston'},\n",
       "   {'id': 87818409,\n",
       "    'id_str': '87818409',\n",
       "    'indices': [18, 27],\n",
       "    'name': 'The Guardian',\n",
       "    'screen_name': 'guardian'}]},\n",
       " 'extended_tweet': {'display_text_range': [28, 168],\n",
       "  'entities': {'hashtags': [],\n",
       "   'symbols': [],\n",
       "   'urls': [],\n",
       "   'user_mentions': [{'id': 329276155,\n",
       "     'id_str': '329276155',\n",
       "     'indices': [0, 9],\n",
       "     'name': 'D Young',\n",
       "     'screen_name': 'statto99'},\n",
       "    {'id': 14157134,\n",
       "     'id_str': '14157134',\n",
       "     'indices': [10, 17],\n",
       "     'name': 'Robert Peston',\n",
       "     'screen_name': 'Peston'},\n",
       "    {'id': 87818409,\n",
       "     'id_str': '87818409',\n",
       "     'indices': [18, 27],\n",
       "     'name': 'The Guardian',\n",
       "     'screen_name': 'guardian'}]},\n",
       "  'full_text': '@statto99 @Peston @guardian The machine behind Brexit and Trump is far, far more influential and cynical than a local MP being allowed spend an extra thou here or there'},\n",
       " 'favorite_count': 0,\n",
       " 'favorited': False,\n",
       " 'filter_level': 'low',\n",
       " 'geo': None,\n",
       " 'id': 862177401559801856,\n",
       " 'id_str': '862177401559801856',\n",
       " 'in_reply_to_screen_name': 'statto99',\n",
       " 'in_reply_to_status_id': 862065408567848963,\n",
       " 'in_reply_to_status_id_str': '862065408567848963',\n",
       " 'in_reply_to_user_id': 329276155,\n",
       " 'in_reply_to_user_id_str': '329276155',\n",
       " 'is_quote_status': False,\n",
       " 'lang': 'en',\n",
       " 'place': None,\n",
       " 'retweet_count': 0,\n",
       " 'retweeted': False,\n",
       " 'source': '<a href=\"http://twitter.com/download/android\" rel=\"nofollow\">Twitter for Android</a>',\n",
       " 'text': '@statto99 @Peston @guardian The machine behind Brexit and Trump is far, far more influential and cynical than a loc… https://t.co/lRWSYNQUUm',\n",
       " 'timestamp_ms': '1494394085670',\n",
       " 'truncated': True,\n",
       " 'user': {'contributors_enabled': False,\n",
       "  'created_at': 'Tue Jan 27 21:28:05 +0000 2009',\n",
       "  'default_profile': False,\n",
       "  'default_profile_image': False,\n",
       "  'description': 'Financial Planner based in Clifton. Otherwise can be found drinking 🍺 and talking 🏉 and 🎵',\n",
       "  'favourites_count': 685,\n",
       "  'follow_request_sent': None,\n",
       "  'followers_count': 324,\n",
       "  'following': None,\n",
       "  'friends_count': 521,\n",
       "  'geo_enabled': True,\n",
       "  'id': 19617631,\n",
       "  'id_str': '19617631',\n",
       "  'is_translator': False,\n",
       "  'lang': 'en',\n",
       "  'listed_count': 5,\n",
       "  'location': 'Bristol',\n",
       "  'name': 'Jamie Flook',\n",
       "  'notifications': None,\n",
       "  'profile_background_color': '0099B9',\n",
       "  'profile_background_image_url': 'http://abs.twimg.com/images/themes/theme4/bg.gif',\n",
       "  'profile_background_image_url_https': 'https://abs.twimg.com/images/themes/theme4/bg.gif',\n",
       "  'profile_background_tile': False,\n",
       "  'profile_banner_url': 'https://pbs.twimg.com/profile_banners/19617631/1408433496',\n",
       "  'profile_image_url': 'http://pbs.twimg.com/profile_images/501632359620689922/5jEfRG90_normal.jpeg',\n",
       "  'profile_image_url_https': 'https://pbs.twimg.com/profile_images/501632359620689922/5jEfRG90_normal.jpeg',\n",
       "  'profile_link_color': '0099B9',\n",
       "  'profile_sidebar_border_color': '5ED4DC',\n",
       "  'profile_sidebar_fill_color': '95E8EC',\n",
       "  'profile_text_color': '3C3940',\n",
       "  'profile_use_background_image': True,\n",
       "  'protected': False,\n",
       "  'screen_name': 'flook89',\n",
       "  'statuses_count': 4392,\n",
       "  'time_zone': 'London',\n",
       "  'url': None,\n",
       "  'utc_offset': 3600,\n",
       "  'verified': False}}"
      ]
     },
     "execution_count": 24,
     "metadata": {},
     "output_type": "execute_result"
    }
   ],
   "source": [
    "#Sample Twitter Data Received\n",
    "tweets_data[0]"
   ]
  },
  {
   "cell_type": "code",
   "execution_count": 25,
   "metadata": {
    "collapsed": false
   },
   "outputs": [
    {
     "data": {
      "text/plain": [
       "'@statto99 @Peston @guardian The machine behind Brexit and Trump is far, far more influential and cynical than a loc… https://t.co/lRWSYNQUUm'"
      ]
     },
     "execution_count": 25,
     "metadata": {},
     "output_type": "execute_result"
    }
   ],
   "source": [
    "#How to parse out certain key from json\n",
    "tweets_data[0]['text']"
   ]
  },
  {
   "cell_type": "code",
   "execution_count": 26,
   "metadata": {
    "collapsed": true
   },
   "outputs": [],
   "source": [
    "from datetime import datetime"
   ]
  },
  {
   "cell_type": "code",
   "execution_count": 33,
   "metadata": {
    "collapsed": false
   },
   "outputs": [],
   "source": [
    "#Pass in a Tweet JSON Data (tweet) and the key to get (element)\n",
    "def getText(tweet, element):\n",
    "    try:\n",
    "        return tweet[element]\n",
    "    except KeyError:\n",
    "        pass\n",
    "    \n",
    "tweetsDF = pd.DataFrame()\n",
    "tweetsDF['text'] =[getText(tweet, 'text') for tweet in tweets_data]\n",
    "tweetsDF['lang'] = [getText(tweet,'lang') for tweet in tweets_data]\n",
    "tweetsDF['created_at'] = [getText(tweet,'created_at') for tweet in tweets_data]\n",
    "tweetsDF['created_at'] = pd.to_datetime(tweetsDF['created_at'],errors='ignore')\n",
    "tweetsDF.set_index('created_at',inplace=True)"
   ]
  },
  {
   "cell_type": "code",
   "execution_count": 31,
   "metadata": {
    "collapsed": false
   },
   "outputs": [
    {
     "data": {
      "text/html": [
       "<div>\n",
       "<table border=\"1\" class=\"dataframe\">\n",
       "  <thead>\n",
       "    <tr style=\"text-align: right;\">\n",
       "      <th></th>\n",
       "      <th>text</th>\n",
       "      <th>lang</th>\n",
       "    </tr>\n",
       "    <tr>\n",
       "      <th>created_at</th>\n",
       "      <th></th>\n",
       "      <th></th>\n",
       "    </tr>\n",
       "  </thead>\n",
       "  <tbody>\n",
       "    <tr>\n",
       "      <th>2017-05-10 05:28:05</th>\n",
       "      <td>@statto99 @Peston @guardian The machine behind...</td>\n",
       "      <td>en</td>\n",
       "    </tr>\n",
       "    <tr>\n",
       "      <th>2017-05-10 05:28:05</th>\n",
       "      <td>@RobinH2222 @Rosie Six months ago liberals bla...</td>\n",
       "      <td>en</td>\n",
       "    </tr>\n",
       "    <tr>\n",
       "      <th>2017-05-10 05:28:05</th>\n",
       "      <td>RT @JoyAnnReid: Meanwhile... https://t.co/S6xB...</td>\n",
       "      <td>en</td>\n",
       "    </tr>\n",
       "    <tr>\n",
       "      <th>2017-05-10 05:28:05</th>\n",
       "      <td>Donald Trump fires FBI Director James Comey, s...</td>\n",
       "      <td>en</td>\n",
       "    </tr>\n",
       "    <tr>\n",
       "      <th>2017-05-10 05:28:05</th>\n",
       "      <td>@nytimes this letter proves Trump is not under...</td>\n",
       "      <td>en</td>\n",
       "    </tr>\n",
       "  </tbody>\n",
       "</table>\n",
       "</div>"
      ],
      "text/plain": [
       "                                                                  text lang\n",
       "created_at                                                                 \n",
       "2017-05-10 05:28:05  @statto99 @Peston @guardian The machine behind...   en\n",
       "2017-05-10 05:28:05  @RobinH2222 @Rosie Six months ago liberals bla...   en\n",
       "2017-05-10 05:28:05  RT @JoyAnnReid: Meanwhile... https://t.co/S6xB...   en\n",
       "2017-05-10 05:28:05  Donald Trump fires FBI Director James Comey, s...   en\n",
       "2017-05-10 05:28:05  @nytimes this letter proves Trump is not under...   en"
      ]
     },
     "execution_count": 31,
     "metadata": {},
     "output_type": "execute_result"
    }
   ],
   "source": [
    "tweetsDF.head()"
   ]
  },
  {
   "cell_type": "markdown",
   "metadata": {},
   "source": [
    "## Removing Empty Texts "
   ]
  },
  {
   "cell_type": "code",
   "execution_count": 37,
   "metadata": {
    "collapsed": false
   },
   "outputs": [
    {
     "data": {
      "text/plain": [
       "text    0\n",
       "lang    0\n",
       "dtype: int64"
      ]
     },
     "execution_count": 37,
     "metadata": {},
     "output_type": "execute_result"
    }
   ],
   "source": [
    "tweetsDF.dropna(axis=0, how=\"any\", inplace=True)\n",
    "tweetsDF.isnull().sum()"
   ]
  },
  {
   "cell_type": "markdown",
   "metadata": {},
   "source": [
    "## What Languages Are Used in Twitter Data Feed?"
   ]
  },
  {
   "cell_type": "code",
   "execution_count": 38,
   "metadata": {
    "collapsed": false
   },
   "outputs": [
    {
     "data": {
      "text/plain": [
       "<matplotlib.axes._subplots.AxesSubplot at 0x11a57ba20>"
      ]
     },
     "execution_count": 38,
     "metadata": {},
     "output_type": "execute_result"
    },
    {
     "data": {
      "image/png": "[encoded data removed]",
      "text/plain": [
       "<matplotlib.figure.Figure at 0x11a57b128>"
      ]
     },
     "metadata": {},
     "output_type": "display_data"
    }
   ],
   "source": [
    "tweets_by_lang = tweetsDF['lang'].value_counts()\n",
    "tweets_by_lang.head(10).plot(kind=\"bar\")"
   ]
  },
  {
   "cell_type": "markdown",
   "metadata": {},
   "source": [
    "English is clearly the dominant language used in Tweet Data. This will make it easier to analyze."
   ]
  },
  {
   "cell_type": "code",
   "execution_count": null,
   "metadata": {
    "collapsed": true
   },
   "outputs": [],
   "source": []
  }
 ],
 "metadata": {
  "kernelspec": {
   "display_name": "Python 3",
   "language": "python",
   "name": "python3"
  },
  "language_info": {
   "codemirror_mode": {
    "name": "ipython",
    "version": 3
   },
   "file_extension": ".py",
   "mimetype": "text/x-python",
   "name": "python",
   "nbconvert_exporter": "python",
   "pygments_lexer": "ipython3",
   "version": "3.5.3"
  }
 },
 "nbformat": 4,
 "nbformat_minor": 0
}
