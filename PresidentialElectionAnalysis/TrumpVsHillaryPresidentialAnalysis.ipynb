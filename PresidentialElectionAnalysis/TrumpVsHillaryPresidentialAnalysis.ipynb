{
 "cells": [
  {
   "cell_type": "markdown",
   "metadata": {},
   "source": [
    "# Analyzing Presidential Election With Twitter"
   ]
  },
  {
   "cell_type": "markdown",
   "metadata": {},
   "source": [
    "Would it have been possible to predict winner of presidential election earlier with Twitter? \n"
   ]
  },
  {
   "cell_type": "markdown",
   "metadata": {},
   "source": [
    "# Setting Up Twitter Developer Account Linked To Profile"
   ]
  },
  {
   "cell_type": "markdown",
   "metadata": {},
   "source": [
    "## Initialize Connection"
   ]
  },
  {
   "cell_type": "code",
   "execution_count": 3,
   "metadata": {
    "collapsed": false
   },
   "outputs": [],
   "source": [
    "import tweepy #Connection to Twitter\n",
    "import json #Output from Twitter\n",
    "import time #How the computer is going to see the time"
   ]
  },
  {
   "cell_type": "code",
   "execution_count": 4,
   "metadata": {
    "collapsed": true
   },
   "outputs": [],
   "source": [
    "#ConsumerKey, consumer secret, access token, access secret \n",
    "ckey = 'MEynE0kRbK0Zxl0JZxbbH2dLb'\n",
    "csecret = 'viYv8XalQzp643oTMbVmXzF4QLekgDjXm5nCmWmUMEBmn91JR1'\n",
    "atoken= '862164338936860675-tyzXrNk5yQZRHFacACx8jSNwTKE9uj7'\n",
    "asecret = 'BAI4pZnsFMKjGyXZfRp4cLxS5PoyADqpNGScnmry932gt'"
   ]
  },
  {
   "cell_type": "code",
   "execution_count": 5,
   "metadata": {
    "collapsed": true
   },
   "outputs": [],
   "source": [
    "#Instantiating Objects of Authentication\n",
    "auth = tweepy.OAuthHandler(ckey, csecret)\n",
    "auth.set_access_token(atoken, asecret)"
   ]
  },
  {
   "cell_type": "markdown",
   "metadata": {},
   "source": [
    "## Testing the Connection"
   ]
  },
  {
   "cell_type": "code",
   "execution_count": 6,
   "metadata": {
    "collapsed": false
   },
   "outputs": [],
   "source": [
    "#Create The Actual Interface\n",
    "api = tweepy.API(auth)\n",
    "\n",
    "#api.update_status(\"Hello Updating From iPython\")\n",
    "user = api.me()"
   ]
  },
  {
   "cell_type": "code",
   "execution_count": 7,
   "metadata": {
    "collapsed": false
   },
   "outputs": [
    {
     "name": "stdout",
     "output_type": "stream",
     "text": [
      "Tomoki Lam\n",
      "\n",
      "0\n"
     ]
    }
   ],
   "source": [
    "print(user.name)\n",
    "print(user.location)\n",
    "print(user.friends_count)"
   ]
  },
  {
   "cell_type": "markdown",
   "metadata": {},
   "source": [
    "# Streaming Presidential Election Tweets"
   ]
  },
  {
   "cell_type": "code",
   "execution_count": 8,
   "metadata": {
    "collapsed": false
   },
   "outputs": [
    {
     "name": "stdout",
     "output_type": "stream",
     "text": [
      "Twitter Download is interrupted\n"
     ]
    }
   ],
   "source": [
    "# Initializing a listener class that streams Twitter status\n",
    "class StdOutListener(tweepy.StreamListener):\n",
    "    def on_data(self,data):\n",
    "        try:\n",
    "            with open ('tweets', 'a') as file:\n",
    "                file.write(data)\n",
    "                return True\n",
    "        except BaseException as e:\n",
    "            print(str(e))\n",
    "    def on_error(self,status):\n",
    "        print(status)\n",
    "        \n",
    "        \n",
    "#This handles Twitter authentiication and the connection to Twitter Streaming API\n",
    "listener = StdOutListener()\n",
    "stream = tweepy.Stream(auth, listener)\n",
    "\n",
    "#This line filter Twitter Streams to capture data by the keywords: 'trump', 'hillary'\n",
    "try:    \n",
    "    stream.filter(track=['trump','hillary'])\n",
    "except KeyboardInterrupt:\n",
    "        print(\"Twitter Download is interrupted\")      "
   ]
  },
  {
   "cell_type": "code",
   "execution_count": null,
   "metadata": {
    "collapsed": true
   },
   "outputs": [],
   "source": []
  },
  {
   "cell_type": "markdown",
   "metadata": {},
   "source": [
    "# Exploring Data "
   ]
  },
  {
   "cell_type": "code",
   "execution_count": 9,
   "metadata": {
    "collapsed": true
   },
   "outputs": [],
   "source": [
    "import pandas as pd\n",
    "%matplotlib inline\n",
    "import matplotlib.pyplot as plt\n",
    "from matplotlib import style\n",
    "\n",
    "# Adjusting the size of matplotlib\n",
    "import matplotlib as mpl\n",
    "mpl.rc('figure', figsize=(8, 7))\n",
    "mpl.__version__\n",
    "\n",
    "# Adjusting the style of matplotlib\n",
    "style.use('ggplot')"
   ]
  },
  {
   "cell_type": "code",
   "execution_count": 10,
   "metadata": {
    "collapsed": false
   },
   "outputs": [
    {
     "data": {
      "text/plain": [
       "6072"
      ]
     },
     "execution_count": 10,
     "metadata": {},
     "output_type": "execute_result"
    }
   ],
   "source": [
    "#Get data of Twitter Stream\n",
    "tweets_data_path = 'tweets'\n",
    "\n",
    "tweets_data =[]\n",
    "tweets_file = open(tweets_data_path, \"r\")\n",
    "\n",
    "for line in tweets_file:\n",
    "    try:\n",
    "        tweet = json.loads(line)\n",
    "        tweets_data.append(tweet)\n",
    "    except:\n",
    "        continue\n",
    "        \n",
    "len(tweets_data)"
   ]
  },
  {
   "cell_type": "code",
   "execution_count": 11,
   "metadata": {
    "collapsed": false
   },
   "outputs": [
    {
     "data": {
      "text/plain": [
       "{'contributors': None,\n",
       " 'coordinates': None,\n",
       " 'created_at': 'Wed May 10 05:28:05 +0000 2017',\n",
       " 'display_text_range': [28, 140],\n",
       " 'entities': {'hashtags': [],\n",
       "  'symbols': [],\n",
       "  'urls': [{'display_url': 'twitter.com/i/web/status/8…',\n",
       "    'expanded_url': 'https://twitter.com/i/web/status/862177401559801856',\n",
       "    'indices': [117, 140],\n",
       "    'url': 'https://t.co/lRWSYNQUUm'}],\n",
       "  'user_mentions': [{'id': 329276155,\n",
       "    'id_str': '329276155',\n",
       "    'indices': [0, 9],\n",
       "    'name': 'D Young',\n",
       "    'screen_name': 'statto99'},\n",
       "   {'id': 14157134,\n",
       "    'id_str': '14157134',\n",
       "    'indices': [10, 17],\n",
       "    'name': 'Robert Peston',\n",
       "    'screen_name': 'Peston'},\n",
       "   {'id': 87818409,\n",
       "    'id_str': '87818409',\n",
       "    'indices': [18, 27],\n",
       "    'name': 'The Guardian',\n",
       "    'screen_name': 'guardian'}]},\n",
       " 'extended_tweet': {'display_text_range': [28, 168],\n",
       "  'entities': {'hashtags': [],\n",
       "   'symbols': [],\n",
       "   'urls': [],\n",
       "   'user_mentions': [{'id': 329276155,\n",
       "     'id_str': '329276155',\n",
       "     'indices': [0, 9],\n",
       "     'name': 'D Young',\n",
       "     'screen_name': 'statto99'},\n",
       "    {'id': 14157134,\n",
       "     'id_str': '14157134',\n",
       "     'indices': [10, 17],\n",
       "     'name': 'Robert Peston',\n",
       "     'screen_name': 'Peston'},\n",
       "    {'id': 87818409,\n",
       "     'id_str': '87818409',\n",
       "     'indices': [18, 27],\n",
       "     'name': 'The Guardian',\n",
       "     'screen_name': 'guardian'}]},\n",
       "  'full_text': '@statto99 @Peston @guardian The machine behind Brexit and Trump is far, far more influential and cynical than a local MP being allowed spend an extra thou here or there'},\n",
       " 'favorite_count': 0,\n",
       " 'favorited': False,\n",
       " 'filter_level': 'low',\n",
       " 'geo': None,\n",
       " 'id': 862177401559801856,\n",
       " 'id_str': '862177401559801856',\n",
       " 'in_reply_to_screen_name': 'statto99',\n",
       " 'in_reply_to_status_id': 862065408567848963,\n",
       " 'in_reply_to_status_id_str': '862065408567848963',\n",
       " 'in_reply_to_user_id': 329276155,\n",
       " 'in_reply_to_user_id_str': '329276155',\n",
       " 'is_quote_status': False,\n",
       " 'lang': 'en',\n",
       " 'place': None,\n",
       " 'retweet_count': 0,\n",
       " 'retweeted': False,\n",
       " 'source': '<a href=\"http://twitter.com/download/android\" rel=\"nofollow\">Twitter for Android</a>',\n",
       " 'text': '@statto99 @Peston @guardian The machine behind Brexit and Trump is far, far more influential and cynical than a loc… https://t.co/lRWSYNQUUm',\n",
       " 'timestamp_ms': '1494394085670',\n",
       " 'truncated': True,\n",
       " 'user': {'contributors_enabled': False,\n",
       "  'created_at': 'Tue Jan 27 21:28:05 +0000 2009',\n",
       "  'default_profile': False,\n",
       "  'default_profile_image': False,\n",
       "  'description': 'Financial Planner based in Clifton. Otherwise can be found drinking 🍺 and talking 🏉 and 🎵',\n",
       "  'favourites_count': 685,\n",
       "  'follow_request_sent': None,\n",
       "  'followers_count': 324,\n",
       "  'following': None,\n",
       "  'friends_count': 521,\n",
       "  'geo_enabled': True,\n",
       "  'id': 19617631,\n",
       "  'id_str': '19617631',\n",
       "  'is_translator': False,\n",
       "  'lang': 'en',\n",
       "  'listed_count': 5,\n",
       "  'location': 'Bristol',\n",
       "  'name': 'Jamie Flook',\n",
       "  'notifications': None,\n",
       "  'profile_background_color': '0099B9',\n",
       "  'profile_background_image_url': 'http://abs.twimg.com/images/themes/theme4/bg.gif',\n",
       "  'profile_background_image_url_https': 'https://abs.twimg.com/images/themes/theme4/bg.gif',\n",
       "  'profile_background_tile': False,\n",
       "  'profile_banner_url': 'https://pbs.twimg.com/profile_banners/19617631/1408433496',\n",
       "  'profile_image_url': 'http://pbs.twimg.com/profile_images/501632359620689922/5jEfRG90_normal.jpeg',\n",
       "  'profile_image_url_https': 'https://pbs.twimg.com/profile_images/501632359620689922/5jEfRG90_normal.jpeg',\n",
       "  'profile_link_color': '0099B9',\n",
       "  'profile_sidebar_border_color': '5ED4DC',\n",
       "  'profile_sidebar_fill_color': '95E8EC',\n",
       "  'profile_text_color': '3C3940',\n",
       "  'profile_use_background_image': True,\n",
       "  'protected': False,\n",
       "  'screen_name': 'flook89',\n",
       "  'statuses_count': 4392,\n",
       "  'time_zone': 'London',\n",
       "  'url': None,\n",
       "  'utc_offset': 3600,\n",
       "  'verified': False}}"
      ]
     },
     "execution_count": 11,
     "metadata": {},
     "output_type": "execute_result"
    }
   ],
   "source": [
    "#Sample Twitter Data Received\n",
    "tweets_data[0]"
   ]
  },
  {
   "cell_type": "code",
   "execution_count": 12,
   "metadata": {
    "collapsed": false
   },
   "outputs": [
    {
     "data": {
      "text/plain": [
       "'@statto99 @Peston @guardian The machine behind Brexit and Trump is far, far more influential and cynical than a loc… https://t.co/lRWSYNQUUm'"
      ]
     },
     "execution_count": 12,
     "metadata": {},
     "output_type": "execute_result"
    }
   ],
   "source": [
    "#How to parse out certain key from json\n",
    "tweets_data[0]['text']"
   ]
  },
  {
   "cell_type": "code",
   "execution_count": 13,
   "metadata": {
    "collapsed": true
   },
   "outputs": [],
   "source": [
    "from datetime import datetime"
   ]
  },
  {
   "cell_type": "code",
   "execution_count": 14,
   "metadata": {
    "collapsed": false
   },
   "outputs": [],
   "source": [
    "#Pass in a Tweet JSON Data (tweet) and the key to get (element)\n",
    "def getText(tweet, element):\n",
    "    try:\n",
    "        return tweet[element]\n",
    "    except KeyError:\n",
    "        pass\n",
    "    \n",
    "tweetsDF = pd.DataFrame()\n",
    "tweetsDF['text'] =[getText(tweet, 'text') for tweet in tweets_data]\n",
    "tweetsDF['lang'] = [getText(tweet,'lang') for tweet in tweets_data]\n",
    "tweetsDF['created_at'] = [getText(tweet,'created_at') for tweet in tweets_data]\n",
    "tweetsDF['created_at'] = pd.to_datetime(tweetsDF['created_at'],errors='ignore')\n",
    "tweetsDF.set_index('created_at',inplace=True)"
   ]
  },
  {
   "cell_type": "code",
   "execution_count": 15,
   "metadata": {
    "collapsed": false
   },
   "outputs": [
    {
     "data": {
      "text/html": [
       "<div>\n",
       "<table border=\"1\" class=\"dataframe\">\n",
       "  <thead>\n",
       "    <tr style=\"text-align: right;\">\n",
       "      <th></th>\n",
       "      <th>text</th>\n",
       "      <th>lang</th>\n",
       "    </tr>\n",
       "    <tr>\n",
       "      <th>created_at</th>\n",
       "      <th></th>\n",
       "      <th></th>\n",
       "    </tr>\n",
       "  </thead>\n",
       "  <tbody>\n",
       "    <tr>\n",
       "      <th>2017-05-10 05:28:05</th>\n",
       "      <td>@statto99 @Peston @guardian The machine behind...</td>\n",
       "      <td>en</td>\n",
       "    </tr>\n",
       "    <tr>\n",
       "      <th>2017-05-10 05:28:05</th>\n",
       "      <td>@RobinH2222 @Rosie Six months ago liberals bla...</td>\n",
       "      <td>en</td>\n",
       "    </tr>\n",
       "    <tr>\n",
       "      <th>2017-05-10 05:28:05</th>\n",
       "      <td>RT @JoyAnnReid: Meanwhile... https://t.co/S6xB...</td>\n",
       "      <td>en</td>\n",
       "    </tr>\n",
       "    <tr>\n",
       "      <th>2017-05-10 05:28:05</th>\n",
       "      <td>Donald Trump fires FBI Director James Comey, s...</td>\n",
       "      <td>en</td>\n",
       "    </tr>\n",
       "    <tr>\n",
       "      <th>2017-05-10 05:28:05</th>\n",
       "      <td>@nytimes this letter proves Trump is not under...</td>\n",
       "      <td>en</td>\n",
       "    </tr>\n",
       "  </tbody>\n",
       "</table>\n",
       "</div>"
      ],
      "text/plain": [
       "                                                                  text lang\n",
       "created_at                                                                 \n",
       "2017-05-10 05:28:05  @statto99 @Peston @guardian The machine behind...   en\n",
       "2017-05-10 05:28:05  @RobinH2222 @Rosie Six months ago liberals bla...   en\n",
       "2017-05-10 05:28:05  RT @JoyAnnReid: Meanwhile... https://t.co/S6xB...   en\n",
       "2017-05-10 05:28:05  Donald Trump fires FBI Director James Comey, s...   en\n",
       "2017-05-10 05:28:05  @nytimes this letter proves Trump is not under...   en"
      ]
     },
     "execution_count": 15,
     "metadata": {},
     "output_type": "execute_result"
    }
   ],
   "source": [
    "tweetsDF.head()"
   ]
  },
  {
   "cell_type": "markdown",
   "metadata": {},
   "source": [
    "## Removing Empty Texts "
   ]
  },
  {
   "cell_type": "code",
   "execution_count": 16,
   "metadata": {
    "collapsed": false
   },
   "outputs": [
    {
     "data": {
      "text/plain": [
       "text    0\n",
       "lang    0\n",
       "dtype: int64"
      ]
     },
     "execution_count": 16,
     "metadata": {},
     "output_type": "execute_result"
    }
   ],
   "source": [
    "tweetsDF.dropna(axis=0, how=\"any\", inplace=True)\n",
    "tweetsDF.isnull().sum()"
   ]
  },
  {
   "cell_type": "markdown",
   "metadata": {},
   "source": [
    "## What Languages Are Used in Twitter Data Feed?"
   ]
  },
  {
   "cell_type": "code",
   "execution_count": 17,
   "metadata": {
    "collapsed": false
   },
   "outputs": [
    {
     "data": {
      "text/plain": [
       "<matplotlib.axes._subplots.AxesSubplot at 0x11b7c62b0>"
      ]
     },
     "execution_count": 17,
     "metadata": {},
     "output_type": "execute_result"
    },
    {
     "data": {
      "image/png": "[encoded data removed]",
      "text/plain": [
       "<matplotlib.figure.Figure at 0x11b7b1828>"
      ]
     },
     "metadata": {},
     "output_type": "display_data"
    }
   ],
   "source": [
    "tweets_by_lang = tweetsDF['lang'].value_counts()\n",
    "tweets_by_lang.head(10).plot(kind=\"bar\")"
   ]
  },
  {
   "cell_type": "markdown",
   "metadata": {},
   "source": [
    "English is clearly the dominant language used in Tweet Data. This will make it easier to analyze."
   ]
  },
  {
   "cell_type": "code",
   "execution_count": 18,
   "metadata": {
    "collapsed": true
   },
   "outputs": [],
   "source": [
    "#Import Regular Expressions\n",
    "import re"
   ]
  },
  {
   "cell_type": "code",
   "execution_count": 19,
   "metadata": {
    "collapsed": true
   },
   "outputs": [],
   "source": [
    "#Want to see if certain tweet has the word 'Trump' or 'Hillary'\n",
    "def word_in_text(word, text):\n",
    "    try:\n",
    "        text = text.lower()\n",
    "        match = re.search(word, text)\n",
    "        if match:\n",
    "            return True\n",
    "        return False\n",
    "    except AttributeError:\n",
    "        return False"
   ]
  },
  {
   "cell_type": "code",
   "execution_count": 20,
   "metadata": {
    "collapsed": false
   },
   "outputs": [],
   "source": [
    "#See how many tweets talk about each Presidential Candidate\n",
    "\n",
    "tweetsDF['trump'] = tweetsDF['text'].apply(lambda tweet: word_in_text('trump', tweet))\n",
    "tweetsDF['hillary'] = tweetsDF['text'].apply(lambda tweet: word_in_text('hillary', tweet))"
   ]
  },
  {
   "cell_type": "code",
   "execution_count": 21,
   "metadata": {
    "collapsed": false
   },
   "outputs": [
    {
     "name": "stdout",
     "output_type": "stream",
     "text": [
      "Trump Tweet Count: 4628\n",
      "Hillary Tweet Count: 473\n"
     ]
    }
   ],
   "source": [
    "#Retrun only the tweets that gives true for each candidate\n",
    "print('Trump Tweet Count:',  tweetsDF['trump'].value_counts()[1])\n",
    "print('Hillary Tweet Count:', tweetsDF['hillary'].value_counts()[1])"
   ]
  },
  {
   "cell_type": "code",
   "execution_count": 22,
   "metadata": {
    "collapsed": false
   },
   "outputs": [
    {
     "data": {
      "text/html": [
       "<div>\n",
       "<table border=\"1\" class=\"dataframe\">\n",
       "  <thead>\n",
       "    <tr style=\"text-align: right;\">\n",
       "      <th></th>\n",
       "      <th>text</th>\n",
       "      <th>lang</th>\n",
       "      <th>trump</th>\n",
       "      <th>hillary</th>\n",
       "    </tr>\n",
       "    <tr>\n",
       "      <th>created_at</th>\n",
       "      <th></th>\n",
       "      <th></th>\n",
       "      <th></th>\n",
       "      <th></th>\n",
       "    </tr>\n",
       "  </thead>\n",
       "  <tbody>\n",
       "    <tr>\n",
       "      <th>2017-05-10 05:28:05</th>\n",
       "      <td>@statto99 @Peston @guardian The machine behind...</td>\n",
       "      <td>en</td>\n",
       "      <td>True</td>\n",
       "      <td>False</td>\n",
       "    </tr>\n",
       "    <tr>\n",
       "      <th>2017-05-10 05:28:05</th>\n",
       "      <td>@RobinH2222 @Rosie Six months ago liberals bla...</td>\n",
       "      <td>en</td>\n",
       "      <td>False</td>\n",
       "      <td>True</td>\n",
       "    </tr>\n",
       "    <tr>\n",
       "      <th>2017-05-10 05:28:05</th>\n",
       "      <td>RT @JoyAnnReid: Meanwhile... https://t.co/S6xB...</td>\n",
       "      <td>en</td>\n",
       "      <td>False</td>\n",
       "      <td>False</td>\n",
       "    </tr>\n",
       "    <tr>\n",
       "      <th>2017-05-10 05:28:05</th>\n",
       "      <td>Donald Trump fires FBI Director James Comey, s...</td>\n",
       "      <td>en</td>\n",
       "      <td>True</td>\n",
       "      <td>False</td>\n",
       "    </tr>\n",
       "    <tr>\n",
       "      <th>2017-05-10 05:28:05</th>\n",
       "      <td>@nytimes this letter proves Trump is not under...</td>\n",
       "      <td>en</td>\n",
       "      <td>True</td>\n",
       "      <td>False</td>\n",
       "    </tr>\n",
       "  </tbody>\n",
       "</table>\n",
       "</div>"
      ],
      "text/plain": [
       "                                                                  text lang  \\\n",
       "created_at                                                                    \n",
       "2017-05-10 05:28:05  @statto99 @Peston @guardian The machine behind...   en   \n",
       "2017-05-10 05:28:05  @RobinH2222 @Rosie Six months ago liberals bla...   en   \n",
       "2017-05-10 05:28:05  RT @JoyAnnReid: Meanwhile... https://t.co/S6xB...   en   \n",
       "2017-05-10 05:28:05  Donald Trump fires FBI Director James Comey, s...   en   \n",
       "2017-05-10 05:28:05  @nytimes this letter proves Trump is not under...   en   \n",
       "\n",
       "                     trump hillary  \n",
       "created_at                          \n",
       "2017-05-10 05:28:05   True   False  \n",
       "2017-05-10 05:28:05  False    True  \n",
       "2017-05-10 05:28:05  False   False  \n",
       "2017-05-10 05:28:05   True   False  \n",
       "2017-05-10 05:28:05   True   False  "
      ]
     },
     "execution_count": 22,
     "metadata": {},
     "output_type": "execute_result"
    }
   ],
   "source": [
    "tweetsDF.head()"
   ]
  },
  {
   "cell_type": "code",
   "execution_count": 23,
   "metadata": {
    "collapsed": false
   },
   "outputs": [
    {
     "data": {
      "text/plain": [
       "<matplotlib.axes._subplots.AxesSubplot at 0x11b87c860>"
      ]
     },
     "execution_count": 23,
     "metadata": {},
     "output_type": "execute_result"
    },
    {
     "data": {
      "image/png": "[encoded data removed]",
      "text/plain": [
       "<matplotlib.figure.Figure at 0x11b8ee630>"
      ]
     },
     "metadata": {},
     "output_type": "display_data"
    }
   ],
   "source": [
    "#Putting Results Into A Bar Graph\n",
    "presidential_candidates = ['Trump', 'Hillary']\n",
    "tweets_of_pres_candidates = [[tweetsDF['trump'].value_counts()[1], tweetsDF['hillary'].value_counts()[1]]]\n",
    "\n",
    "candidate_frame = pd.DataFrame(tweets_of_pres_candidates, columns=presidential_candidates)\n",
    "\n",
    "candidate_frame.T.plot(kind='bar', legend=False, title=\"Twitter Counts of Presidential Candidates\", color='rb')\n"
   ]
  },
  {
   "cell_type": "code",
   "execution_count": 24,
   "metadata": {
    "collapsed": false
   },
   "outputs": [
    {
     "data": {
      "text/html": [
       "<div>\n",
       "<table border=\"1\" class=\"dataframe\">\n",
       "  <thead>\n",
       "    <tr style=\"text-align: right;\">\n",
       "      <th></th>\n",
       "      <th>text</th>\n",
       "      <th>lang</th>\n",
       "      <th>trump</th>\n",
       "      <th>hillary</th>\n",
       "    </tr>\n",
       "    <tr>\n",
       "      <th>created_at</th>\n",
       "      <th></th>\n",
       "      <th></th>\n",
       "      <th></th>\n",
       "      <th></th>\n",
       "    </tr>\n",
       "  </thead>\n",
       "  <tbody>\n",
       "    <tr>\n",
       "      <th>2017-05-10 05:28:05</th>\n",
       "      <td>@RobinH2222 @Rosie Six months ago liberals bla...</td>\n",
       "      <td>en</td>\n",
       "      <td>False</td>\n",
       "      <td>True</td>\n",
       "    </tr>\n",
       "    <tr>\n",
       "      <th>2017-05-10 05:28:06</th>\n",
       "      <td>Dems should be happy Comey was fired. #Hillary...</td>\n",
       "      <td>en</td>\n",
       "      <td>True</td>\n",
       "      <td>True</td>\n",
       "    </tr>\n",
       "    <tr>\n",
       "      <th>2017-05-10 05:28:02</th>\n",
       "      <td>RT @larryelder: Hillary blames Comey for her d...</td>\n",
       "      <td>en</td>\n",
       "      <td>True</td>\n",
       "      <td>True</td>\n",
       "    </tr>\n",
       "    <tr>\n",
       "      <th>2017-05-10 05:28:06</th>\n",
       "      <td>@reubsmoves yeah hillary had her fallbacks but...</td>\n",
       "      <td>en</td>\n",
       "      <td>False</td>\n",
       "      <td>True</td>\n",
       "    </tr>\n",
       "    <tr>\n",
       "      <th>2017-05-10 05:28:06</th>\n",
       "      <td>@thee_stupid You will be a sleep a very long t...</td>\n",
       "      <td>en</td>\n",
       "      <td>False</td>\n",
       "      <td>True</td>\n",
       "    </tr>\n",
       "  </tbody>\n",
       "</table>\n",
       "</div>"
      ],
      "text/plain": [
       "                                                                  text lang  \\\n",
       "created_at                                                                    \n",
       "2017-05-10 05:28:05  @RobinH2222 @Rosie Six months ago liberals bla...   en   \n",
       "2017-05-10 05:28:06  Dems should be happy Comey was fired. #Hillary...   en   \n",
       "2017-05-10 05:28:02  RT @larryelder: Hillary blames Comey for her d...   en   \n",
       "2017-05-10 05:28:06  @reubsmoves yeah hillary had her fallbacks but...   en   \n",
       "2017-05-10 05:28:06  @thee_stupid You will be a sleep a very long t...   en   \n",
       "\n",
       "                     trump hillary  \n",
       "created_at                          \n",
       "2017-05-10 05:28:05  False    True  \n",
       "2017-05-10 05:28:06   True    True  \n",
       "2017-05-10 05:28:02   True    True  \n",
       "2017-05-10 05:28:06  False    True  \n",
       "2017-05-10 05:28:06  False    True  "
      ]
     },
     "execution_count": 24,
     "metadata": {},
     "output_type": "execute_result"
    }
   ],
   "source": [
    "#To see individual candidates \"tweets\" \n",
    "tweetsDF[tweetsDF.hillary == True].head()"
   ]
  },
  {
   "cell_type": "code",
   "execution_count": 28,
   "metadata": {
    "collapsed": false
   },
   "outputs": [
    {
     "data": {
      "text/plain": [
       "<matplotlib.axes._subplots.AxesSubplot at 0x11bd3deb8>"
      ]
     },
     "execution_count": 28,
     "metadata": {},
     "output_type": "execute_result"
    },
    {
     "data": {
      "image/png": "[encoded data removed]",
      "text/plain": [
       "<matplotlib.figure.Figure at 0x11bc8b7f0>"
      ]
     },
     "metadata": {},
     "output_type": "display_data"
    }
   ],
   "source": [
    "#Exploring tweet counts by each date\n",
    "trump_tweets_by_date = tweetsDF.trump.groupby(tweetsDF.index.date).sum()\n",
    "hillary_tweets_by_date = tweetsDF.hillary.groupby(tweetsDF.index.date).sum()\n",
    "\n",
    "# Getting a dataframe of both tweets over time\n",
    "pd.concat([trump_tweets_by_date, hillary_tweets_by_date], axis=1).plot(kind='bar')"
   ]
  },
  {
   "cell_type": "markdown",
   "metadata": {},
   "source": [
    "# Sentimental Analysis"
   ]
  },
  {
   "cell_type": "raw",
   "metadata": {},
   "source": [
    "Sentiment Analysis\n",
    "Text\tValues\n",
    "Polarity\t-0.0875\n",
    "Subjectivity\t0.575\n",
    "Classification\tneg\n",
    "P_Pos\t0.344455873\n",
    "P_Neg\t0.655544127\n",
    "\n",
    "What does that mean?\n",
    "Polarity - a measure of the negativity, the neutralness, or the positivity of the text\n",
    "Subjectivity - a measure of the subjectiveness of the object. The more it is, the more subjective is the information\n",
    "Classification - either pos or neg indicating if the text is positive or negative To calculate the overall sentiment, we look at the polarity score:"
   ]
  },
  {
   "cell_type": "markdown",
   "metadata": {},
   "source": [
    "## Generating the Polarity and Subjectivity (Sentiment Values)"
   ]
  },
  {
   "cell_type": "code",
   "execution_count": 30,
   "metadata": {
    "collapsed": false
   },
   "outputs": [],
   "source": [
    "#We will use the text blob library to analyze sentiment\n",
    "from textblob import TextBlob"
   ]
  },
  {
   "cell_type": "code",
   "execution_count": 32,
   "metadata": {
    "collapsed": false
   },
   "outputs": [],
   "source": [
    "def find_polarity(tweet):\n",
    "    return TextBlob(tweet).polarity\n",
    "\n",
    "def find_subjectivity(tweet):\n",
    "    return TextBlob(tweet).subjectivity\n",
    "\n",
    "#Applying textblob to each tweets text\n",
    "tweetsDF['Polarity'] = tweetsDF['text'].apply(lambda tweet: find_polarity(tweet))\n",
    "tweetsDF['Subjectivity'] = tweetsDF['text'].apply(lambda tweet: find_subjectivity(tweet))\n"
   ]
  },
  {
   "cell_type": "code",
   "execution_count": 34,
   "metadata": {
    "collapsed": false
   },
   "outputs": [
    {
     "data": {
      "text/html": [
       "<div>\n",
       "<table border=\"1\" class=\"dataframe\">\n",
       "  <thead>\n",
       "    <tr style=\"text-align: right;\">\n",
       "      <th></th>\n",
       "      <th>text</th>\n",
       "      <th>lang</th>\n",
       "      <th>trump</th>\n",
       "      <th>hillary</th>\n",
       "      <th>Polarity</th>\n",
       "      <th>Subjectivity</th>\n",
       "    </tr>\n",
       "    <tr>\n",
       "      <th>created_at</th>\n",
       "      <th></th>\n",
       "      <th></th>\n",
       "      <th></th>\n",
       "      <th></th>\n",
       "      <th></th>\n",
       "      <th></th>\n",
       "    </tr>\n",
       "  </thead>\n",
       "  <tbody>\n",
       "    <tr>\n",
       "      <th>2017-05-10 05:28:05</th>\n",
       "      <td>@statto99 @Peston @guardian The machine behind...</td>\n",
       "      <td>en</td>\n",
       "      <td>True</td>\n",
       "      <td>False</td>\n",
       "      <td>-0.06000</td>\n",
       "      <td>0.84000</td>\n",
       "    </tr>\n",
       "    <tr>\n",
       "      <th>2017-05-10 05:28:05</th>\n",
       "      <td>@RobinH2222 @Rosie Six months ago liberals bla...</td>\n",
       "      <td>en</td>\n",
       "      <td>False</td>\n",
       "      <td>True</td>\n",
       "      <td>0.00000</td>\n",
       "      <td>0.00000</td>\n",
       "    </tr>\n",
       "    <tr>\n",
       "      <th>2017-05-10 05:28:05</th>\n",
       "      <td>RT @JoyAnnReid: Meanwhile... https://t.co/S6xB...</td>\n",
       "      <td>en</td>\n",
       "      <td>False</td>\n",
       "      <td>False</td>\n",
       "      <td>0.00000</td>\n",
       "      <td>0.00000</td>\n",
       "    </tr>\n",
       "    <tr>\n",
       "      <th>2017-05-10 05:28:05</th>\n",
       "      <td>Donald Trump fires FBI Director James Comey, s...</td>\n",
       "      <td>en</td>\n",
       "      <td>True</td>\n",
       "      <td>False</td>\n",
       "      <td>0.00000</td>\n",
       "      <td>0.10000</td>\n",
       "    </tr>\n",
       "    <tr>\n",
       "      <th>2017-05-10 05:28:05</th>\n",
       "      <td>@nytimes this letter proves Trump is not under...</td>\n",
       "      <td>en</td>\n",
       "      <td>True</td>\n",
       "      <td>False</td>\n",
       "      <td>-0.00625</td>\n",
       "      <td>0.34375</td>\n",
       "    </tr>\n",
       "  </tbody>\n",
       "</table>\n",
       "</div>"
      ],
      "text/plain": [
       "                                                                  text lang  \\\n",
       "created_at                                                                    \n",
       "2017-05-10 05:28:05  @statto99 @Peston @guardian The machine behind...   en   \n",
       "2017-05-10 05:28:05  @RobinH2222 @Rosie Six months ago liberals bla...   en   \n",
       "2017-05-10 05:28:05  RT @JoyAnnReid: Meanwhile... https://t.co/S6xB...   en   \n",
       "2017-05-10 05:28:05  Donald Trump fires FBI Director James Comey, s...   en   \n",
       "2017-05-10 05:28:05  @nytimes this letter proves Trump is not under...   en   \n",
       "\n",
       "                     trump hillary  Polarity  Subjectivity  \n",
       "created_at                                                  \n",
       "2017-05-10 05:28:05   True   False  -0.06000       0.84000  \n",
       "2017-05-10 05:28:05  False    True   0.00000       0.00000  \n",
       "2017-05-10 05:28:05  False   False   0.00000       0.00000  \n",
       "2017-05-10 05:28:05   True   False   0.00000       0.10000  \n",
       "2017-05-10 05:28:05   True   False  -0.00625       0.34375  "
      ]
     },
     "execution_count": 34,
     "metadata": {},
     "output_type": "execute_result"
    }
   ],
   "source": [
    "tweetsDF.head()"
   ]
  },
  {
   "cell_type": "code",
   "execution_count": 35,
   "metadata": {
    "collapsed": false
   },
   "outputs": [
    {
     "data": {
      "text/html": [
       "<div>\n",
       "<table border=\"1\" class=\"dataframe\">\n",
       "  <thead>\n",
       "    <tr style=\"text-align: right;\">\n",
       "      <th></th>\n",
       "      <th>Polarity</th>\n",
       "      <th>Subjectivity</th>\n",
       "    </tr>\n",
       "  </thead>\n",
       "  <tbody>\n",
       "    <tr>\n",
       "      <th>count</th>\n",
       "      <td>5912.000000</td>\n",
       "      <td>5912.000000</td>\n",
       "    </tr>\n",
       "    <tr>\n",
       "      <th>mean</th>\n",
       "      <td>0.021806</td>\n",
       "      <td>0.291878</td>\n",
       "    </tr>\n",
       "    <tr>\n",
       "      <th>std</th>\n",
       "      <td>0.257631</td>\n",
       "      <td>0.328670</td>\n",
       "    </tr>\n",
       "    <tr>\n",
       "      <th>min</th>\n",
       "      <td>-1.000000</td>\n",
       "      <td>0.000000</td>\n",
       "    </tr>\n",
       "    <tr>\n",
       "      <th>25%</th>\n",
       "      <td>0.000000</td>\n",
       "      <td>0.000000</td>\n",
       "    </tr>\n",
       "    <tr>\n",
       "      <th>50%</th>\n",
       "      <td>0.000000</td>\n",
       "      <td>0.125000</td>\n",
       "    </tr>\n",
       "    <tr>\n",
       "      <th>75%</th>\n",
       "      <td>0.031771</td>\n",
       "      <td>0.550000</td>\n",
       "    </tr>\n",
       "    <tr>\n",
       "      <th>max</th>\n",
       "      <td>1.000000</td>\n",
       "      <td>1.000000</td>\n",
       "    </tr>\n",
       "  </tbody>\n",
       "</table>\n",
       "</div>"
      ],
      "text/plain": [
       "          Polarity  Subjectivity\n",
       "count  5912.000000   5912.000000\n",
       "mean      0.021806      0.291878\n",
       "std       0.257631      0.328670\n",
       "min      -1.000000      0.000000\n",
       "25%       0.000000      0.000000\n",
       "50%       0.000000      0.125000\n",
       "75%       0.031771      0.550000\n",
       "max       1.000000      1.000000"
      ]
     },
     "execution_count": 35,
     "metadata": {},
     "output_type": "execute_result"
    }
   ],
   "source": [
    "tweetsDF.describe()"
   ]
  },
  {
   "cell_type": "code",
   "execution_count": 37,
   "metadata": {
    "collapsed": false
   },
   "outputs": [],
   "source": [
    "#Categorizing satisfactions based on polarity\n",
    "tweetsDF['PolarityCategory'] = pd.cut(tweetsDF.Polarity, 3, labels=[\"unhappy\",\"neutral\",\"happy\"])\n",
    "tweetsDF['SubjectivityCategory'] = pd.cut(tweetsDF.Subjectivity, 2, labels=[\"meaningful\", \"subjective\"])"
   ]
  },
  {
   "cell_type": "code",
   "execution_count": 38,
   "metadata": {
    "collapsed": false
   },
   "outputs": [
    {
     "data": {
      "text/html": [
       "<div>\n",
       "<table border=\"1\" class=\"dataframe\">\n",
       "  <thead>\n",
       "    <tr style=\"text-align: right;\">\n",
       "      <th></th>\n",
       "      <th>text</th>\n",
       "      <th>lang</th>\n",
       "      <th>trump</th>\n",
       "      <th>hillary</th>\n",
       "      <th>Polarity</th>\n",
       "      <th>Subjectivity</th>\n",
       "      <th>PolarityCategory</th>\n",
       "      <th>SubjectivityCategory</th>\n",
       "    </tr>\n",
       "    <tr>\n",
       "      <th>created_at</th>\n",
       "      <th></th>\n",
       "      <th></th>\n",
       "      <th></th>\n",
       "      <th></th>\n",
       "      <th></th>\n",
       "      <th></th>\n",
       "      <th></th>\n",
       "      <th></th>\n",
       "    </tr>\n",
       "  </thead>\n",
       "  <tbody>\n",
       "    <tr>\n",
       "      <th>2017-05-10 05:28:05</th>\n",
       "      <td>@statto99 @Peston @guardian The machine behind...</td>\n",
       "      <td>en</td>\n",
       "      <td>True</td>\n",
       "      <td>False</td>\n",
       "      <td>-0.06000</td>\n",
       "      <td>0.84000</td>\n",
       "      <td>neutral</td>\n",
       "      <td>subjective</td>\n",
       "    </tr>\n",
       "    <tr>\n",
       "      <th>2017-05-10 05:28:05</th>\n",
       "      <td>@RobinH2222 @Rosie Six months ago liberals bla...</td>\n",
       "      <td>en</td>\n",
       "      <td>False</td>\n",
       "      <td>True</td>\n",
       "      <td>0.00000</td>\n",
       "      <td>0.00000</td>\n",
       "      <td>neutral</td>\n",
       "      <td>meaningful</td>\n",
       "    </tr>\n",
       "    <tr>\n",
       "      <th>2017-05-10 05:28:05</th>\n",
       "      <td>RT @JoyAnnReid: Meanwhile... https://t.co/S6xB...</td>\n",
       "      <td>en</td>\n",
       "      <td>False</td>\n",
       "      <td>False</td>\n",
       "      <td>0.00000</td>\n",
       "      <td>0.00000</td>\n",
       "      <td>neutral</td>\n",
       "      <td>meaningful</td>\n",
       "    </tr>\n",
       "    <tr>\n",
       "      <th>2017-05-10 05:28:05</th>\n",
       "      <td>Donald Trump fires FBI Director James Comey, s...</td>\n",
       "      <td>en</td>\n",
       "      <td>True</td>\n",
       "      <td>False</td>\n",
       "      <td>0.00000</td>\n",
       "      <td>0.10000</td>\n",
       "      <td>neutral</td>\n",
       "      <td>meaningful</td>\n",
       "    </tr>\n",
       "    <tr>\n",
       "      <th>2017-05-10 05:28:05</th>\n",
       "      <td>@nytimes this letter proves Trump is not under...</td>\n",
       "      <td>en</td>\n",
       "      <td>True</td>\n",
       "      <td>False</td>\n",
       "      <td>-0.00625</td>\n",
       "      <td>0.34375</td>\n",
       "      <td>neutral</td>\n",
       "      <td>meaningful</td>\n",
       "    </tr>\n",
       "  </tbody>\n",
       "</table>\n",
       "</div>"
      ],
      "text/plain": [
       "                                                                  text lang  \\\n",
       "created_at                                                                    \n",
       "2017-05-10 05:28:05  @statto99 @Peston @guardian The machine behind...   en   \n",
       "2017-05-10 05:28:05  @RobinH2222 @Rosie Six months ago liberals bla...   en   \n",
       "2017-05-10 05:28:05  RT @JoyAnnReid: Meanwhile... https://t.co/S6xB...   en   \n",
       "2017-05-10 05:28:05  Donald Trump fires FBI Director James Comey, s...   en   \n",
       "2017-05-10 05:28:05  @nytimes this letter proves Trump is not under...   en   \n",
       "\n",
       "                     trump hillary  Polarity  Subjectivity PolarityCategory  \\\n",
       "created_at                                                                    \n",
       "2017-05-10 05:28:05   True   False  -0.06000       0.84000          neutral   \n",
       "2017-05-10 05:28:05  False    True   0.00000       0.00000          neutral   \n",
       "2017-05-10 05:28:05  False   False   0.00000       0.00000          neutral   \n",
       "2017-05-10 05:28:05   True   False   0.00000       0.10000          neutral   \n",
       "2017-05-10 05:28:05   True   False  -0.00625       0.34375          neutral   \n",
       "\n",
       "                    SubjectivityCategory  \n",
       "created_at                                \n",
       "2017-05-10 05:28:05           subjective  \n",
       "2017-05-10 05:28:05           meaningful  \n",
       "2017-05-10 05:28:05           meaningful  \n",
       "2017-05-10 05:28:05           meaningful  \n",
       "2017-05-10 05:28:05           meaningful  "
      ]
     },
     "execution_count": 38,
     "metadata": {},
     "output_type": "execute_result"
    }
   ],
   "source": [
    "tweetsDF.head()"
   ]
  },
  {
   "cell_type": "markdown",
   "metadata": {},
   "source": [
    "## Plotting Out Sentimental Analysis"
   ]
  },
  {
   "cell_type": "markdown",
   "metadata": {},
   "source": [
    "Seperating Trump vs Hillary Tweets and its respective sentiments"
   ]
  },
  {
   "cell_type": "code",
   "execution_count": 39,
   "metadata": {
    "collapsed": true
   },
   "outputs": [],
   "source": [
    "trumpTweets = tweetsDF[tweetsDF.trump == True]\n",
    "hillaryTweets = tweetsDF[tweetsDF.hillary == True]"
   ]
  },
  {
   "cell_type": "markdown",
   "metadata": {},
   "source": [
    "Polarity Analysis"
   ]
  },
  {
   "cell_type": "code",
   "execution_count": 40,
   "metadata": {
    "collapsed": true
   },
   "outputs": [],
   "source": [
    "trumpPolarityCount = trumpTweets['PolarityCategory'].value_counts().rename(\"trump\")\n",
    "hillaryPolarityCount = hillaryTweets['PolarityCategory'].value_counts().rename(\"hillary\")"
   ]
  },
  {
   "cell_type": "code",
   "execution_count": 44,
   "metadata": {
    "collapsed": false
   },
   "outputs": [],
   "source": [
    "presidentialPolarityCounty = pd.concat([trumpPolarityCount, hillaryPolarityCount], axis=1)"
   ]
  },
  {
   "cell_type": "code",
   "execution_count": 46,
   "metadata": {
    "collapsed": false
   },
   "outputs": [
    {
     "data": {
      "text/html": [
       "<div>\n",
       "<table border=\"1\" class=\"dataframe\">\n",
       "  <thead>\n",
       "    <tr style=\"text-align: right;\">\n",
       "      <th></th>\n",
       "      <th>trump</th>\n",
       "      <th>hillary</th>\n",
       "    </tr>\n",
       "  </thead>\n",
       "  <tbody>\n",
       "    <tr>\n",
       "      <th>neutral</th>\n",
       "      <td>3850</td>\n",
       "      <td>359</td>\n",
       "    </tr>\n",
       "    <tr>\n",
       "      <th>happy</th>\n",
       "      <td>491</td>\n",
       "      <td>68</td>\n",
       "    </tr>\n",
       "    <tr>\n",
       "      <th>unhappy</th>\n",
       "      <td>287</td>\n",
       "      <td>46</td>\n",
       "    </tr>\n",
       "  </tbody>\n",
       "</table>\n",
       "</div>"
      ],
      "text/plain": [
       "         trump  hillary\n",
       "neutral   3850      359\n",
       "happy      491       68\n",
       "unhappy    287       46"
      ]
     },
     "execution_count": 46,
     "metadata": {},
     "output_type": "execute_result"
    }
   ],
   "source": [
    "presidentialPolarityCounty"
   ]
  },
  {
   "cell_type": "code",
   "execution_count": null,
   "metadata": {
    "collapsed": true
   },
   "outputs": [],
   "source": []
  }
 ],
 "metadata": {
  "kernelspec": {
   "display_name": "Python 3",
   "language": "python",
   "name": "python3"
  },
  "language_info": {
   "codemirror_mode": {
    "name": "ipython",
    "version": 3
   },
   "file_extension": ".py",
   "mimetype": "text/x-python",
   "name": "python",
   "nbconvert_exporter": "python",
   "pygments_lexer": "ipython3",
   "version": "3.5.3"
  }
 },
 "nbformat": 4,
 "nbformat_minor": 0
}
